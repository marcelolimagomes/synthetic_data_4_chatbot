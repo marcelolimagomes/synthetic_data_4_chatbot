{
 "cells": [
  {
   "cell_type": "code",
   "execution_count": null,
   "metadata": {},
   "outputs": [],
   "source": [
    "import ollama\n",
    "import time\n",
    "from utilities import readtext, getconfig\n",
    "from mattsollamatools import chunk_text_by_sentences\n",
    "\n",
    "MODEL_NAME = 'llama3.2'"
   ]
  },
  {
   "cell_type": "code",
   "execution_count": null,
   "metadata": {},
   "outputs": [],
   "source": [
    "embedmodel = getconfig()[\"embedmodel\"]\n",
    "starttime = time.time()\n",
    "filename = None\n",
    "with open('sourcedocs.txt') as f:\n",
    "  filename = f.read()\n",
    "if filename is None:\n",
    "  raise Exception('Filename not found!')\n",
    "print(filename)\n",
    "text = readtext(filename)\n",
    "chunks = chunk_text_by_sentences(source_text=text, sentences_per_chunk=7, overlap=0)"
   ]
  },
  {
   "cell_type": "code",
   "execution_count": null,
   "metadata": {},
   "outputs": [],
   "source": [
    "print(f\"with {len(chunks)} chunks\")\n",
    "input_1 = \"\"\"Você irá gerar uma lista de perguntas e respostas no formato JSON. O formato do arquivo de saída deve conter apenas as variáveis \"pergunta\" e \"resposta\". \n",
    "Sempre termite a pergunta com um ponto de interrogação. Utilize o formato \"{'pergunta':'XXXXX', 'resposta': 'XXXXX'}\".\n",
    "Utilize o seguinte texto como recurso:\\n\\n\"\"\"\n",
    "\n",
    "result = []\n",
    "for index, chunk in enumerate(chunks):  \n",
    "  prompt = f'{input_1}{chunk}'\n",
    "  stream = ollama.generate(model=MODEL_NAME, prompt=prompt, stream=False, format='json', options={\"temperature\": 0.8})  \n",
    "  if stream[\"response\"]:      \n",
    "    res = stream['response'].strip() + ',\\n'\n",
    "    print(res, end='', flush=True)\n",
    "    result.append(res)\n",
    "\n",
    "with open('result.json', 'w') as f:\n",
    "  f.writelines('[\\n')\n",
    "  f.write('\\n'.join(result))\n",
    "  f.writelines('\\n]')\n"
   ]
  }
 ],
 "metadata": {
  "kernelspec": {
   "display_name": "rapids",
   "language": "python",
   "name": "python3"
  },
  "language_info": {
   "codemirror_mode": {
    "name": "ipython",
    "version": 3
   },
   "file_extension": ".py",
   "mimetype": "text/x-python",
   "name": "python",
   "nbconvert_exporter": "python",
   "pygments_lexer": "ipython3",
   "version": "3.11.9"
  }
 },
 "nbformat": 4,
 "nbformat_minor": 2
}
